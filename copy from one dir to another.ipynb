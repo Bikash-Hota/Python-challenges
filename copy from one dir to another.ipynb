{
 "cells": [
  {
   "cell_type": "code",
   "execution_count": 11,
   "metadata": {},
   "outputs": [],
   "source": [
    "import shutil\n",
    "import os\n",
    "source = r'C:\\Users\\Lenovo\\Downloads\\biks'\n",
    "dest1 = r'C:\\Users\\Lenovo\\Downloads\\diks'\n",
    "files =os.listdir(r'C:\\Users\\Lenovo\\Downloads\\biks')\n",
    "for f in files:\n",
    "    shutil.copy(source+'\\\\'+f,dest1)\n",
    "\n",
    "\n",
    "\n"
   ]
  },
  {
   "cell_type": "code",
   "execution_count": null,
   "metadata": {},
   "outputs": [],
   "source": []
  }
 ],
 "metadata": {
  "kernelspec": {
   "display_name": "Python 3",
   "language": "python",
   "name": "python3"
  },
  "language_info": {
   "codemirror_mode": {
    "name": "ipython",
    "version": 3
   },
   "file_extension": ".py",
   "mimetype": "text/x-python",
   "name": "python",
   "nbconvert_exporter": "python",
   "pygments_lexer": "ipython3",
   "version": "3.7.0"
  }
 },
 "nbformat": 4,
 "nbformat_minor": 2
}
